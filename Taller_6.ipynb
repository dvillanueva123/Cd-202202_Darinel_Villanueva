{
  "nbformat": 4,
  "nbformat_minor": 0,
  "metadata": {
    "colab": {
      "provenance": [],
      "include_colab_link": true
    },
    "kernelspec": {
      "name": "python3",
      "display_name": "Python 3"
    },
    "language_info": {
      "name": "python"
    }
  },
  "cells": [
    {
      "cell_type": "markdown",
      "metadata": {
        "id": "view-in-github",
        "colab_type": "text"
      },
      "source": [
        "<a href=\"https://colab.research.google.com/github/dvillanueva123/Cd-202202_Darinel_Villanueva/blob/main/Taller_6.ipynb\" target=\"_parent\"><img src=\"https://colab.research.google.com/assets/colab-badge.svg\" alt=\"Open In Colab\"/></a>"
      ]
    },
    {
      "cell_type": "code",
      "execution_count": null,
      "metadata": {
        "id": "m2P9x9o5j5ml"
      },
      "outputs": [],
      "source": [
        "import math\n",
        "import random \n",
        "def distancia(x,y):\n",
        "  return math.sqrt(x**2+y**2)"
      ]
    },
    {
      "cell_type": "code",
      "source": [
        "cont=0\n",
        "puntosLado=10000\n",
        "paso=1/(puntosLado-1)\n",
        "i=0\n",
        "while (i<=1):\n",
        "  j=0\n",
        "  while (j<=1):\n",
        "    if distancia(i,j)<=1:\n",
        "      cont+=1\n",
        "    j+=paso\n",
        "  i+=paso\n",
        "\n",
        "print(\"puntos:\",cont)\n",
        "print(\"estimación de pi:\",(cont*4/puntosLado**2))\n"
      ],
      "metadata": {
        "colab": {
          "base_uri": "https://localhost:8080/"
        },
        "id": "2Ruv90_FkN1y",
        "outputId": "7217586f-f0cb-4404-82fc-17e195071fa6"
      },
      "execution_count": null,
      "outputs": [
        {
          "output_type": "stream",
          "name": "stdout",
          "text": [
            "puntos: 78534021\n",
            "estimación de pi: 3.14136084\n"
          ]
        }
      ]
    },
    {
      "cell_type": "code",
      "source": [
        "pAle=1000000\n",
        "\n",
        "cAle=0\n",
        "for i in range(pAle):\n",
        "  x=random.random()\n",
        "  y=random.random()\n",
        "  if (distancia(x,y)<=1):\n",
        "\n",
        "    cAle+=1\n",
        "\n",
        "print(\"estimación de pi:\",(cAle*4/pAle**2))"
      ],
      "metadata": {
        "colab": {
          "base_uri": "https://localhost:8080/"
        },
        "id": "o8yrNTd9okk3",
        "outputId": "3b8058a2-f8fd-44aa-e277-4c63e80615c7"
      },
      "execution_count": null,
      "outputs": [
        {
          "output_type": "stream",
          "name": "stdout",
          "text": [
            "estimación de pi: 3.14158e-06\n"
          ]
        }
      ]
    }
  ]
}