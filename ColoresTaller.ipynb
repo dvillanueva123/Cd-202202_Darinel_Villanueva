{
  "nbformat": 4,
  "nbformat_minor": 0,
  "metadata": {
    "colab": {
      "name": "ColoresTaller.ipynb",
      "provenance": [],
      "include_colab_link": true
    },
    "kernelspec": {
      "name": "python3",
      "display_name": "Python 3"
    },
    "language_info": {
      "name": "python"
    }
  },
  "cells": [
    {
      "cell_type": "markdown",
      "metadata": {
        "id": "view-in-github",
        "colab_type": "text"
      },
      "source": [
        "<a href=\"https://colab.research.google.com/github/dvillanueva123/Cd-202202_Darinel_Villanueva/blob/main/ColoresTaller.ipynb\" target=\"_parent\"><img src=\"https://colab.research.google.com/assets/colab-badge.svg\" alt=\"Open In Colab\"/></a>"
      ]
    },
    {
      "cell_type": "code",
      "execution_count": 1,
      "metadata": {
        "id": "uE3y1ueYcBas"
      },
      "outputs": [],
      "source": [
        "import colorsys\n"
      ]
    },
    {
      "cell_type": "code",
      "source": [
        "def generar_gama(ri, gi, bi, rf, gf,bf, cantidad):\n",
        "  hsvi=colorsys.rgb_to_hsv(ri/255,gi/255, bi/255)\n",
        "  hsvf=colorsys.rgb_to_hsv(rf/255,gf/255, bf/255)\n",
        "  pasoH =(hsvf[0]-hsvi[0])/(cantidad-1)\n",
        "  pasoS =(hsvf[1]-hsvi[1])/(cantidad-1)\n",
        "  pasoV=(hsvf[2]-hsvi[2])/(cantidad-1)\n",
        "  listaRGB=[]\n",
        "  listaRGB.append([ri/255,gi/255,bi/255])\n",
        "  for i in range(cantidad-1):\n",
        "    h=hsvi[0]+ pasoH*(i+1)\n",
        "    s=hsvi[1]+ pasoS*(i+1)\n",
        "    v=hsvi[2]+ pasoV*(i+1)\n",
        "    rgb=colorsys.hsv_to_rgb(h,s,v)\n",
        "    #listaRGB.append(round(rgb[0]*255,0), round(rgb[1]*255,0),round(rgb[2]*255,0))\n",
        "    listaRGB.append(rgb)\n",
        "  return listaRGB"
      ],
      "metadata": {
        "id": "qNFN-RUVcGXf"
      },
      "execution_count": 2,
      "outputs": []
    },
    {
      "cell_type": "code",
      "source": [
        "gama=generar_gama(200,0,0,0,150,220,8)\n",
        "gama"
      ],
      "metadata": {
        "colab": {
          "base_uri": "https://localhost:8080/"
        },
        "id": "v0ExS4jfcsrz",
        "outputId": "d05fb0e2-f3eb-4b95-9ebd-bfd014060b4a"
      },
      "execution_count": 10,
      "outputs": [
        {
          "output_type": "execute_result",
          "data": {
            "text/plain": [
              "[[0.7843137254901961, 0.0, 0.0],\n",
              " (0.7955182072829131, 0.3770962930626796, 0.0),\n",
              " (0.8067226890756303, 0.7648150169158573, 0.0),\n",
              " (0.47269817017716176, 0.8179271708683473, 0.0),\n",
              " (0.08614354832842232, 0.8291316526610645, 0.0),\n",
              " (0.0, 0.8403361344537815, 0.3110335043108154),\n",
              " (0.0, 0.8515406162464987, 0.7188329877405508),\n",
              " (0.0, 0.588235294117647, 0.8627450980392157)]"
            ]
          },
          "metadata": {},
          "execution_count": 10
        }
      ]
    },
    {
      "cell_type": "code",
      "source": [
        "import matplotlib.pyplot as plt\n",
        "import matplotlib.patches as patches\n",
        "import matplotlib.colors as colors\n",
        "import math"
      ],
      "metadata": {
        "id": "7GSMXUHpiGgg"
      },
      "execution_count": 4,
      "outputs": []
    },
    {
      "cell_type": "code",
      "source": [
        "fig=plt.figure()\n",
        "ax=fig.add_subplot(111)\n",
        "ratio=1.0\n",
        "count=len(gama)\n",
        "x=0\n",
        "y=0\n",
        "h=1/count\n",
        "for cl in gama:\n",
        "  pos=(x/count,y/count)\n",
        "  ax.add_patch(patches.Rectangle(pos,1,h,color=cl))\n",
        "  if y >= count-1:\n",
        "    x += 1\n",
        "    y = 0\n",
        "  else:\n",
        "    y+=1\n",
        "plt.show()"
      ],
      "metadata": {
        "colab": {
          "base_uri": "https://localhost:8080/",
          "height": 269
        },
        "id": "HuEQanRLhwIR",
        "outputId": "14cad001-578d-4f9a-8eb5-31800561dfdf"
      },
      "execution_count": 11,
      "outputs": [
        {
          "output_type": "display_data",
          "data": {
            "text/plain": [
              "<Figure size 432x288 with 1 Axes>"
            ],
            "image/png": "[encoded data removed]"
          },
          "metadata": {
            "needs_background": "light"
          }
        }
      ]
    }
  ]
}